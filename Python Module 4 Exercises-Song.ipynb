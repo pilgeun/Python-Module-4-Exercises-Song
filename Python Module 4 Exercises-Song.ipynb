{
 "cells": [
  {
   "cell_type": "markdown",
   "metadata": {},
   "source": [
    "Exercise 1: Make an empty list and call it names"
   ]
  },
  {
   "cell_type": "code",
   "execution_count": 92,
   "metadata": {},
   "outputs": [],
   "source": [
    "names = []"
   ]
  },
  {
   "cell_type": "markdown",
   "metadata": {},
   "source": [
    "Exercise 2: Make names filled with names of 5 people: Hannah, Victor, Sam, James, Sarah"
   ]
  },
  {
   "cell_type": "code",
   "execution_count": 93,
   "metadata": {},
   "outputs": [],
   "source": [
    "names = [\"Hannah\", \"Victor\", \"Sam\", \"James\", \"Sarah\"]"
   ]
  },
  {
   "cell_type": "markdown",
   "metadata": {},
   "source": [
    "Exercise 3: Make names sort in reverse. Print out the list using a for-loop"
   ]
  },
  {
   "cell_type": "code",
   "execution_count": 28,
   "metadata": {},
   "outputs": [
    {
     "name": "stdout",
     "output_type": "stream",
     "text": [
      "Victor\n",
      "Sarah\n",
      "Sam\n",
      "James\n",
      "Hannah\n"
     ]
    }
   ],
   "source": [
    "names_reverse = names.copy()\n",
    "names_reverse.sort(reverse=True)\n",
    "\n",
    "for i in names_reverse:\n",
    "    print(i)\n"
   ]
  },
  {
   "cell_type": "markdown",
   "metadata": {},
   "source": [
    "Exercise 4: Make names sorted alphabetically. Print out the list using while loop"
   ]
  },
  {
   "cell_type": "code",
   "execution_count": 33,
   "metadata": {},
   "outputs": [
    {
     "name": "stdout",
     "output_type": "stream",
     "text": [
      "Hannah\n",
      "James\n",
      "Sam\n",
      "Sarah\n",
      "Victor\n"
     ]
    }
   ],
   "source": [
    "names_alphabet = names.copy()\n",
    "names_alphabet.sort()\n",
    "\n",
    "i = 0\n",
    "while i < len(names_alphabet):\n",
    "    print(names_alphabet[i])\n",
    "    i += 1\n"
   ]
  },
  {
   "cell_type": "markdown",
   "metadata": {},
   "source": [
    "Exercise 5: Pull out the fourth item from names and print it out"
   ]
  },
  {
   "cell_type": "code",
   "execution_count": 28,
   "metadata": {},
   "outputs": [
    {
     "name": "stdout",
     "output_type": "stream",
     "text": [
      "Sarah\n"
     ]
    }
   ],
   "source": [
    "print(names[3]) # 0, 1, 2, 3"
   ]
  },
  {
   "cell_type": "markdown",
   "metadata": {},
   "source": [
    "Exercise 6: Pull out the first item from names and print it out"
   ]
  },
  {
   "cell_type": "code",
   "execution_count": 29,
   "metadata": {},
   "outputs": [
    {
     "name": "stdout",
     "output_type": "stream",
     "text": [
      "Hannah\n"
     ]
    }
   ],
   "source": [
    "print(names[0]) # list starts at 0"
   ]
  },
  {
   "cell_type": "markdown",
   "metadata": {},
   "source": [
    "Exercise 7: Make a variable named fruits that contains a string \"Apples, Oranges, Bananas, Pineapples, Persimmons, Dragonfruit\" and make it into a list splitting it by the commas."
   ]
  },
  {
   "cell_type": "code",
   "execution_count": 10,
   "metadata": {},
   "outputs": [
    {
     "name": "stdout",
     "output_type": "stream",
     "text": [
      "['Apples', ' Oranges', ' Bananas', ' Pineapples', ' Persimmons', ' Dragonfruit']\n"
     ]
    }
   ],
   "source": [
    "fruits = \"Apples, Oranges, Bananas, Pineapples, Persimmons, Dragonfruit\"\n",
    "fruits_list = fruits.split(\",\")\n",
    "print(fruits_list)"
   ]
  },
  {
   "cell_type": "markdown",
   "metadata": {},
   "source": [
    "Exercise 8: Create a list of the first 10 square numbers. i.e. the square of each integer from 1 to 10. "
   ]
  },
  {
   "cell_type": "code",
   "execution_count": 2,
   "metadata": {},
   "outputs": [
    {
     "data": {
      "text/plain": [
       "[1, 4, 9, 16, 25, 36, 49, 64, 81, 100]"
      ]
     },
     "execution_count": 2,
     "metadata": {},
     "output_type": "execute_result"
    }
   ],
   "source": [
    "square_numbers = [1**2, 2**2, 3**2, 4**2, 5**2, 6**2, 7**2, 8**2, 9**2, 10**2]\n",
    "square_numbers"
   ]
  },
  {
   "cell_type": "markdown",
   "metadata": {},
   "source": [
    "Exercise 9: Create a multiplication table from 1 to 10"
   ]
  },
  {
   "cell_type": "code",
   "execution_count": 95,
   "metadata": {},
   "outputs": [
    {
     "name": "stdout",
     "output_type": "stream",
     "text": [
      "1\t2\t3\t4\t5\t6\t7\t8\t9\t10\t\n",
      "2\t4\t6\t8\t10\t12\t14\t16\t18\t20\t\n",
      "3\t6\t9\t12\t15\t18\t21\t24\t27\t30\t\n",
      "4\t8\t12\t16\t20\t24\t28\t32\t36\t40\t\n",
      "5\t10\t15\t20\t25\t30\t35\t40\t45\t50\t\n",
      "6\t12\t18\t24\t30\t36\t42\t48\t54\t60\t\n",
      "7\t14\t21\t28\t35\t42\t49\t56\t63\t70\t\n",
      "8\t16\t24\t32\t40\t48\t56\t64\t72\t80\t\n",
      "9\t18\t27\t36\t45\t54\t63\t72\t81\t90\t\n",
      "10\t20\t30\t40\t50\t60\t70\t80\t90\t100\t\n"
     ]
    }
   ],
   "source": [
    "for y in range(1, (10+1)):     \n",
    "    for x in range(1, (10+1)): \n",
    "        print(y*x, end=\"\\t\")\n",
    "    print(\"\")    # adds line break after each row\n"
   ]
  },
  {
   "cell_type": "markdown",
   "metadata": {},
   "source": [
    "Exercise 10: Write a program that gets test scores from a user and then calculates and displays the average of the scores that have been enter. The output of the program should show the original scores and the average. "
   ]
  },
  {
   "cell_type": "code",
   "execution_count": 90,
   "metadata": {},
   "outputs": [
    {
     "name": "stdout",
     "output_type": "stream",
     "text": [
      "Type in the test scores (Type 0 to stop):\n",
      "> 1\n",
      "> 2\n",
      "> 3\n",
      "> 4\n",
      "> 5\n",
      "> 0\n",
      "Test Scores: [1.0, 2.0, 3.0, 4.0, 5.0]\n",
      "Average: 3.0\n"
     ]
    }
   ],
   "source": [
    "test_scores = []\n",
    "\n",
    "print(\"Type in the test scores (Type 0 to stop):\")\n",
    "\n",
    "while True:\n",
    "    get_score = float(input(\"> \"))\n",
    "    \n",
    "    if get_score > 0:\n",
    "        test_scores.append(get_score)\n",
    "    \n",
    "    else:\n",
    "        break\n",
    "\n",
    "sum = 0\n",
    "for i in test_scores:\n",
    "    sum += i\n",
    "\n",
    "average = sum/len(test_scores)\n",
    "\n",
    "print(\"Test Scores:\", test_scores)\n",
    "print(\"Average:\", average)\n"
   ]
  },
  {
   "cell_type": "markdown",
   "metadata": {},
   "source": [
    "Challenge:\n",
    "Write a program that maintains a list of movies, and the user can list all the movies, add a movie to the list, or delete a movie from the list.\n",
    "\n",
    "Example\n",
    "\n",
    "###### COMMAND MENU\n",
    "```\n",
    "list - list all movies\n",
    "add - add a movie\n",
    "del - delete a movie\n",
    "exit - exit program \n",
    "```\n",
    "\n",
    "###### Command: list\n",
    "``` \n",
    " 1. Toy Story\n",
    " 2. Lion King\n",
    " 3. Frozen\n",
    " ```\n",
    "\n",
    "###### Command: add\n",
    " ```\n",
    " Name: Snow White\n",
    " Snow White was added.\n",
    " ```\n",
    "\n",
    "###### Command: del\n",
    "```\n",
    " Number: 3\n",
    " Frozen was deleted.```\n",
    "\n"
   ]
  },
  {
   "cell_type": "code",
   "execution_count": 91,
   "metadata": {},
   "outputs": [
    {
     "name": "stdout",
     "output_type": "stream",
     "text": [
      "\n",
      "###### COMMAND MENU\n",
      "```\n",
      "list - list all movies\n",
      "add - add a movie\n",
      "del - delete a movie\n",
      "exit - exit program\n",
      "```\n",
      "    \n",
      "###### Command: list\n",
      "```\n",
      "1. Toy Story\n",
      "2. Lion King\n",
      "3. Frozen\n",
      "```\n",
      "\n",
      "###### Command: add\n",
      "```\n",
      "Name: Snow White\n",
      "Snow White was added.\n",
      "```\n",
      "\n",
      "###### Command: del\n",
      "```\n",
      "Number: 3\n",
      "Frozen was deleted.\n",
      "```\n",
      "\n",
      "###### Command: LIST\n",
      "```\n",
      "1. Toy Story\n",
      "2. Lion King\n",
      "3. Snow White\n",
      "```\n",
      "\n",
      "###### Command: Del\n",
      "```\n",
      "Number: 4\n",
      "Does not exist.\n",
      "```\n",
      "\n",
      "###### Command: exIT\n",
      "```\n"
     ]
    }
   ],
   "source": [
    "def list_movie(m):\n",
    "    for n in range(0, len(m)):\n",
    "        print(f\"{n+1}. {m[n]}\")\n",
    "\n",
    "def add_movie(m):\n",
    "    new_Movie = input(\"Name: \")\n",
    "    print(new_Movie, \"was added.\") \n",
    "    m.append(new_Movie)\n",
    "\n",
    "def delete_movie(m):\n",
    "    list_number = int(input(\"Number: \"))\n",
    "    if list_number <= 0 or list_number > len(m):    # reject input if # in list does not exist\n",
    "        print(\"Does not exist.\")\n",
    "    else:\n",
    "        print(m[list_number-1], \"was deleted.\")\n",
    "        m.pop(list_number-1)\n",
    "\n",
    "# using functions to reduce repeating print(```) statements\n",
    "\n",
    "movies = [\"Toy Story\", \"Lion King\", \"Frozen\"]\n",
    "\n",
    "print(\"\"\"\n",
    "###### COMMAND MENU\n",
    "```\n",
    "list - list all movies\n",
    "add - add a movie\n",
    "del - delete a movie\n",
    "exit - exit program\n",
    "```\n",
    "    \"\"\")\n",
    "\n",
    "while True:\n",
    "    command = input(\"###### Command: \")\n",
    "    command = command.lower()\n",
    "    print(\"```\")\n",
    "    \n",
    "    if command == 'exit':\n",
    "        break\n",
    "    \n",
    "    elif command == \"list\":\n",
    "        list_movie(movies)   \n",
    "    \n",
    "    elif command == \"add\":\n",
    "        add_movie(movies)\n",
    "        \n",
    "    elif command == \"del\": \n",
    "        delete_movie(movies)\n",
    "    \n",
    "    else:\n",
    "        continue\n",
    "        \n",
    "    print(\"```\\n\")\n",
    "    "
   ]
  },
  {
   "cell_type": "code",
   "execution_count": null,
   "metadata": {},
   "outputs": [],
   "source": []
  }
 ],
 "metadata": {
  "kernelspec": {
   "display_name": "Python 3",
   "language": "python",
   "name": "python3"
  },
  "language_info": {
   "codemirror_mode": {
    "name": "ipython",
    "version": 3
   },
   "file_extension": ".py",
   "mimetype": "text/x-python",
   "name": "python",
   "nbconvert_exporter": "python",
   "pygments_lexer": "ipython3",
   "version": "3.8.3"
  }
 },
 "nbformat": 4,
 "nbformat_minor": 4
}
